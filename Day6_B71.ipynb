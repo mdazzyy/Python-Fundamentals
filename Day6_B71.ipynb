{
 "cells": [
  {
   "cell_type": "code",
   "execution_count": 2,
   "id": "43059edd",
   "metadata": {},
   "outputs": [],
   "source": [
    "# 1. for loop"
   ]
  },
  {
   "cell_type": "code",
   "execution_count": 3,
   "id": "6892f7b6",
   "metadata": {},
   "outputs": [
    {
     "name": "stdout",
     "output_type": "stream",
     "text": [
      "['apple', 'banana', 'orange', 'lemon', 'pear', 'kiwi']\n"
     ]
    }
   ],
   "source": [
    "fruits = ['apple', 'banana', 'orange', 'lemon', 'pear', 'kiwi']\n",
    "print(fruits)"
   ]
  },
  {
   "cell_type": "code",
   "execution_count": 4,
   "id": "f2e002a3",
   "metadata": {},
   "outputs": [
    {
     "name": "stdout",
     "output_type": "stream",
     "text": [
      "List of some fruit, Apple\n"
     ]
    }
   ],
   "source": [
    "fruits_message = f\"List of some fruit, {fruits[0].title()}\"\n",
    "print(fruits_message)"
   ]
  },
  {
   "cell_type": "code",
   "execution_count": 5,
   "id": "69de9bc0",
   "metadata": {},
   "outputs": [
    {
     "name": "stdout",
     "output_type": "stream",
     "text": [
      "List of some fruit, Kiwi\n"
     ]
    }
   ],
   "source": [
    "fruits_message = f\"List of some fruit, {fruits[-1].title()}\"\n",
    "print(fruits_message)"
   ]
  },
  {
   "cell_type": "code",
   "execution_count": 6,
   "id": "e27cf512",
   "metadata": {},
   "outputs": [
    {
     "name": "stdout",
     "output_type": "stream",
     "text": [
      "List of some useful fruits, Apple\n",
      "List of some useful fruits, Banana\n",
      "List of some useful fruits, Orange\n",
      "List of some useful fruits, Lemon\n",
      "List of some useful fruits, Pear\n",
      "List of some useful fruits, Kiwi\n"
     ]
    }
   ],
   "source": [
    "for x in fruits:\n",
    "    print(f\"List of some useful fruits, {x.title()}\")"
   ]
  },
  {
   "cell_type": "code",
   "execution_count": null,
   "id": "a0ed23d2",
   "metadata": {},
   "outputs": [],
   "source": []
  }
 ],
 "metadata": {
  "kernelspec": {
   "display_name": "venv",
   "language": "python",
   "name": "venv"
  },
  "language_info": {
   "codemirror_mode": {
    "name": "ipython",
    "version": 3
   },
   "file_extension": ".py",
   "mimetype": "text/x-python",
   "name": "python",
   "nbconvert_exporter": "python",
   "pygments_lexer": "ipython3",
   "version": "3.10.8"
  }
 },
 "nbformat": 4,
 "nbformat_minor": 5
}
