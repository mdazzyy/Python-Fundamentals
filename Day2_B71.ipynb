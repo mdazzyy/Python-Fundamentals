{
 "cells": [
  {
   "cell_type": "code",
   "execution_count": 1,
   "id": "1eda2c35",
   "metadata": {},
   "outputs": [
    {
     "name": "stdout",
     "output_type": "stream",
     "text": [
      "Azhar\n"
     ]
    }
   ],
   "source": [
    "# String\n",
    "name = 'Azhar'\n",
    "print(name)"
   ]
  },
  {
   "cell_type": "code",
   "execution_count": 2,
   "id": "8dd50e35",
   "metadata": {},
   "outputs": [
    {
     "name": "stdout",
     "output_type": "stream",
     "text": [
      "Zahid\n"
     ]
    }
   ],
   "source": [
    "name1 = \"Zahid\"\n",
    "print(name1)"
   ]
  },
  {
   "cell_type": "code",
   "execution_count": 3,
   "id": "64424259",
   "metadata": {},
   "outputs": [
    {
     "name": "stdout",
     "output_type": "stream",
     "text": [
      "Saddam\n"
     ]
    }
   ],
   "source": [
    "name2 = '''Saddam'''\n",
    "print(name2)"
   ]
  },
  {
   "cell_type": "code",
   "execution_count": 6,
   "id": "5761274c",
   "metadata": {},
   "outputs": [
    {
     "data": {
      "text/plain": [
       "str"
      ]
     },
     "execution_count": 6,
     "metadata": {},
     "output_type": "execute_result"
    }
   ],
   "source": [
    "# String methods\n",
    "type(name)\n",
    "type(name1)\n",
    "type(name2)"
   ]
  },
  {
   "cell_type": "code",
   "execution_count": null,
   "id": "920fe2d3",
   "metadata": {},
   "outputs": [],
   "source": []
  }
 ],
 "metadata": {
  "kernelspec": {
   "display_name": "venv",
   "language": "python",
   "name": "venv"
  },
  "language_info": {
   "codemirror_mode": {
    "name": "ipython",
    "version": 3
   },
   "file_extension": ".py",
   "mimetype": "text/x-python",
   "name": "python",
   "nbconvert_exporter": "python",
   "pygments_lexer": "ipython3",
   "version": "3.10.8"
  }
 },
 "nbformat": 4,
 "nbformat_minor": 5
}
