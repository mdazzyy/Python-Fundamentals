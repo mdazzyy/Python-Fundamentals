{
 "cells": [
  {
   "cell_type": "code",
   "execution_count": 1,
   "id": "b06a69d6",
   "metadata": {},
   "outputs": [
    {
     "name": "stdout",
     "output_type": "stream",
     "text": [
      "<class 'dict'>\n",
      "Length of Dictionary: 3\n"
     ]
    }
   ],
   "source": [
    "# Dictionary\n",
    "# declaration\n",
    "cars = {\n",
    "    'brand': 'Hyundai',\n",
    "    'model': 'Kona Electric',\n",
    "    'year': 2022\n",
    "}\n",
    "\n",
    "print(type(cars))\n",
    "print(f\"Length of Dictionary: {len(cars)}\")"
   ]
  },
  {
   "cell_type": "code",
   "execution_count": 4,
   "id": "0a3e4b4f",
   "metadata": {},
   "outputs": [
    {
     "name": "stdout",
     "output_type": "stream",
     "text": [
      "Brand: Hyundai\n",
      "Model: Kona Electric\n"
     ]
    }
   ],
   "source": [
    "# acces dictionary items\n",
    "cars = {\n",
    "    'brand': 'Hyundai',\n",
    "    'model': 'Kona Electric',\n",
    "    'year': 2022\n",
    "}\n",
    "\n",
    "x = cars['brand'] # accrss item using square bracket\n",
    "print(f\"Brand: {x}\")\n",
    "\n",
    "# get() method\n",
    "y = cars.get('model')\n",
    "print(f\"Model: {y}\")"
   ]
  },
  {
   "cell_type": "code",
   "execution_count": 18,
   "id": "edfa0ed0",
   "metadata": {},
   "outputs": [
    {
     "name": "stdout",
     "output_type": "stream",
     "text": [
      "dict_keys(['brand', 'model', 'year'])\n",
      "dict_keys(['brand', 'model', 'year', 'color'])\n"
     ]
    }
   ],
   "source": [
    "# acces keys of dictionary\n",
    "cars = {\n",
    "    'brand': 'Hyundai',\n",
    "    'model': 'Kona Electric',\n",
    "    'year': 2022\n",
    "}\n",
    "\n",
    "x = cars.keys() # will return list of the keys\n",
    "print(x)\n",
    "\n",
    "cars['color'] = 'Black' # if any changes done to the dictionary will be reflected in the keys list\n",
    "print(x)\n",
    "\n",
    "# for i in cars.keys():\n",
    "#     print(i)"
   ]
  },
  {
   "cell_type": "code",
   "execution_count": 16,
   "id": "ee2d2a88",
   "metadata": {},
   "outputs": [
    {
     "name": "stdout",
     "output_type": "stream",
     "text": [
      "dict_values(['Hyundai', 'Kona Electric', 2022])\n",
      "dict_values(['Hyundai', 'Kona Electric', 2022, 'Black'])\n"
     ]
    }
   ],
   "source": [
    "# acces values of dictionary\n",
    "cars = {\n",
    "    'brand': 'Hyundai',\n",
    "    'model': 'Kona Electric',\n",
    "    'year': 2022\n",
    "}\n",
    "\n",
    "x = cars.values() # will return list of the values\n",
    "print(x)\n",
    "\n",
    "cars['color'] = 'Black' # if any changes done to the dictionary will be reflected in the values list\n",
    "print(x)"
   ]
  },
  {
   "cell_type": "code",
   "execution_count": 20,
   "id": "8cd59672",
   "metadata": {},
   "outputs": [
    {
     "name": "stdout",
     "output_type": "stream",
     "text": [
      "item updated using referring key name: {'brand': 'Hyundai', 'model': 'i20', 'year': 2022}\n",
      "item updated using update() method: {'brand': 'Hyundai', 'model': 'i20 prime', 'year': 2022}\n"
     ]
    }
   ],
   "source": [
    "# changing or updating values of dictionary\n",
    "cars = {\n",
    "    'brand': 'Hyundai',\n",
    "    'model': 'Kona Electric',\n",
    "    'year': 2022\n",
    "}\n",
    "\n",
    "cars['model'] = 'i20'\n",
    "print(f\"item updated using referring key name: {cars}\")\n",
    "\n",
    "cars.update({'model': 'i20 prime'})\n",
    "print(f\"item updated using update() method: {cars}\")"
   ]
  },
  {
   "cell_type": "code",
   "execution_count": 3,
   "id": "ac18e9cb",
   "metadata": {},
   "outputs": [
    {
     "name": "stdout",
     "output_type": "stream",
     "text": [
      "{'brand': 'Hyundai', 'model': 'Kona Electric', 'year': 2022, 'color': 'red'}\n",
      "{'brand': 'Hyundai', 'model': 'Kona Electric', 'year': 2022, 'color': 'black'}\n"
     ]
    }
   ],
   "source": [
    "# add items\n",
    "\n",
    "cars = {\n",
    "    'brand': 'Hyundai',\n",
    "    'model': 'Kona Electric',\n",
    "    'year': 2022\n",
    "}\n",
    "\n",
    "cars['color'] = 'red'\n",
    "print(cars)\n",
    "\n",
    "cars.update({'color': 'black'})\n",
    "print(cars)"
   ]
  },
  {
   "cell_type": "code",
   "execution_count": 5,
   "id": "f4becaec",
   "metadata": {},
   "outputs": [
    {
     "name": "stdout",
     "output_type": "stream",
     "text": [
      "{'brand': 'Hyundai', 'model': 'Kona Electric'}\n",
      "{'brand': 'Hyundai'}\n"
     ]
    }
   ],
   "source": [
    "# remove item\n",
    "# pop() and popitem() method\n",
    "\n",
    "cars = {\n",
    "    'brand': 'Hyundai',\n",
    "    'model': 'Kona Electric',\n",
    "    'year': 2022\n",
    "}\n",
    "\n",
    "cars.pop('year')\n",
    "print(cars)\n",
    "\n",
    "cars.popitem()\n",
    "print(cars)"
   ]
  },
  {
   "cell_type": "code",
   "execution_count": 6,
   "id": "ba4dcab7",
   "metadata": {},
   "outputs": [
    {
     "name": "stdout",
     "output_type": "stream",
     "text": [
      "{'brand': 'Hyundai', 'model': 'Kona Electric'}\n"
     ]
    }
   ],
   "source": [
    "# remove item\n",
    "# del keyword\n",
    "\n",
    "cars = {\n",
    "    'brand': 'Hyundai',\n",
    "    'model': 'Kona Electric',\n",
    "    'year': 2022\n",
    "}\n",
    "\n",
    "del cars['year']\n",
    "print(cars)\n",
    "\n",
    "del cars\n",
    "print(cars) # this will give an error becouse cars no longe exists."
   ]
  },
  {
   "cell_type": "code",
   "execution_count": 7,
   "id": "59a4ed56",
   "metadata": {},
   "outputs": [
    {
     "name": "stdout",
     "output_type": "stream",
     "text": [
      "{}\n"
     ]
    }
   ],
   "source": [
    "# remove item\n",
    "# clear() method\n",
    "\n",
    "cars = {\n",
    "    'brand': 'Hyundai',\n",
    "    'model': 'Kona Electric',\n",
    "    'year': 2022\n",
    "}\n",
    "\n",
    "cars.clear()\n",
    "print(cars)"
   ]
  },
  {
   "cell_type": "code",
   "execution_count": 13,
   "id": "5d33c3e4",
   "metadata": {},
   "outputs": [
    {
     "name": "stdout",
     "output_type": "stream",
     "text": [
      "Hyundai\n",
      "Kona Electric\n",
      "2022\n"
     ]
    }
   ],
   "source": [
    "# loop dictionary\n",
    "\n",
    "cars = {\n",
    "    'brand': 'Hyundai',\n",
    "    'model': 'Kona Electric',\n",
    "    'year': 2022\n",
    "}\n",
    "\n",
    "# for x in cars: # this will return keys not values\n",
    "#     print(x)\n",
    "\n",
    "for x in cars: # this will return values not keys\n",
    "    print(cars[x])"
   ]
  },
  {
   "cell_type": "code",
   "execution_count": 1,
   "id": "8529922d",
   "metadata": {},
   "outputs": [
    {
     "name": "stdout",
     "output_type": "stream",
     "text": [
      "Values: Hyundai\n",
      "Values: Kona Electric\n",
      "Values: 2022\n"
     ]
    }
   ],
   "source": [
    "# loop dictionary\n",
    "# access values by using values() method\n",
    "\n",
    "cars = {\n",
    "    'brand': 'Hyundai',\n",
    "    'model': 'Kona Electric',\n",
    "    'year': 2022\n",
    "}\n",
    "\n",
    "for x in cars.values():\n",
    "    print(f'Values: {x}')"
   ]
  },
  {
   "cell_type": "code",
   "execution_count": 1,
   "id": "9c71925c",
   "metadata": {},
   "outputs": [
    {
     "name": "stdout",
     "output_type": "stream",
     "text": [
      "Keys: brand\n",
      "Keys: model\n",
      "Keys: year\n"
     ]
    }
   ],
   "source": [
    "# loop dictionary\n",
    "# access keys by using keys() method\n",
    "\n",
    "cars = {\n",
    "    'brand': 'Hyundai',\n",
    "    'model': 'Kona Electric',\n",
    "    'year': 2022\n",
    "}\n",
    "\n",
    "for x in cars.keys():\n",
    "    print(f'Keys: {x}')"
   ]
  },
  {
   "cell_type": "code",
   "execution_count": 4,
   "id": "d90d7de9",
   "metadata": {},
   "outputs": [
    {
     "name": "stdout",
     "output_type": "stream",
     "text": [
      "Keys: brand, Values: Hyundai\n",
      "Keys: model, Values: Kona Electric\n",
      "Keys: year, Values: 2022\n"
     ]
    }
   ],
   "source": [
    "# access keys and values by using items() method\n",
    "\n",
    "cars = {\n",
    "    'brand': 'Hyundai',\n",
    "    'model': 'Kona Electric',\n",
    "    'year': 2022\n",
    "}\n",
    "\n",
    "for x, y in cars.items():\n",
    "    print(f'Keys: {x}, Values: {y}')"
   ]
  },
  {
   "cell_type": "code",
   "execution_count": 5,
   "id": "8cb911cf",
   "metadata": {},
   "outputs": [
    {
     "name": "stdout",
     "output_type": "stream",
     "text": [
      "Before change: {'brand': 'Hyundai', 'model': 'Kona Electric', 'year': 2022}\n",
      "Before change: {'brand': 'Hyundai', 'model': 'Kona Electric', 'year': 2022}\n",
      "\n",
      "\n",
      "After change: {'brand': 'Hyundai', 'model': 'Kona Electric', 'year': 2022, 'color': 'red'}\n",
      "After change: {'brand': 'Hyundai', 'model': 'Kona Electric', 'year': 2022, 'color': 'red'}\n"
     ]
    }
   ],
   "source": [
    "# copy dictionaries\n",
    "cars = {\n",
    "    'brand': 'Hyundai',\n",
    "    'model': 'Kona Electric',\n",
    "    'year': 2022\n",
    "}\n",
    "\n",
    "cars1 = cars\n",
    "\n",
    "print(f'Before change: {cars}')\n",
    "print(f'Before change: {cars1}')\n",
    "\n",
    "cars1['color'] = 'red' # changes made in cars1, will automatically changes made in cars\n",
    "print('\\n')\n",
    "\n",
    "print(f'After change: {cars}')\n",
    "print(f'After change: {cars1}')"
   ]
  },
  {
   "cell_type": "code",
   "execution_count": 10,
   "id": "52b3a27c",
   "metadata": {},
   "outputs": [
    {
     "name": "stdout",
     "output_type": "stream",
     "text": [
      "Before change: {'brand': 'Hyundai', 'model': 'Kona Electric', 'year': 2022}\n",
      "Before change: {'brand': 'Hyundai', 'model': 'Kona Electric', 'year': 2022}\n",
      "\n",
      "\n",
      "After change: {'brand': 'Hyundai', 'model': 'Kona Electric', 'year': 2022}\n",
      "After change: {'brand': 'Hyundai', 'model': 'Kona Electric', 'year': 2022, 'color': 'red'}\n"
     ]
    }
   ],
   "source": [
    "# copy dictionaries\n",
    "# copy() method\n",
    "cars = {\n",
    "    'brand': 'Hyundai',\n",
    "    'model': 'Kona Electric',\n",
    "    'year': 2022\n",
    "}\n",
    "\n",
    "cars1 = cars.copy()\n",
    "\n",
    "print(f'Before change: {cars}')\n",
    "print(f'Before change: {cars1}') # successfully copied cars to cars1\n",
    "\n",
    "print('\\n')\n",
    "\n",
    "cars1['color'] = 'red'\n",
    "\n",
    "print(f'After change: {cars}') # changes in cars1 does not affect on cars\n",
    "print(f'After change: {cars1}')"
   ]
  },
  {
   "cell_type": "code",
   "execution_count": 11,
   "id": "da3bc7bf",
   "metadata": {},
   "outputs": [
    {
     "name": "stdout",
     "output_type": "stream",
     "text": [
      "Before change: {'brand': 'Hyundai', 'model': 'Kona Electric', 'year': 2022}\n",
      "Before change: {'brand': 'Hyundai', 'model': 'Kona Electric', 'year': 2022}\n",
      "\n",
      "\n",
      "After change: {'brand': 'Hyundai', 'model': 'Kona Electric', 'year': 2022}\n",
      "After change: {'brand': 'Hyundai', 'model': 'Kona Electric', 'year': 2022, 'color': 'red'}\n"
     ]
    }
   ],
   "source": [
    "# copy dictionaries\n",
    "# dict() function\n",
    "cars = {\n",
    "    'brand': 'Hyundai',\n",
    "    'model': 'Kona Electric',\n",
    "    'year': 2022\n",
    "}\n",
    "\n",
    "cars1 = dict(cars)\n",
    "\n",
    "print(f'Before change: {cars}')\n",
    "print(f'Before change: {cars1}')\n",
    "\n",
    "print('\\n')\n",
    "\n",
    "cars1['color'] = 'red'\n",
    "\n",
    "print(f'After change: {cars}')\n",
    "print(f'After change: {cars1}')"
   ]
  },
  {
   "cell_type": "code",
   "execution_count": null,
   "id": "04a30be7",
   "metadata": {},
   "outputs": [],
   "source": []
  }
 ],
 "metadata": {
  "kernelspec": {
   "display_name": "venv",
   "language": "python",
   "name": "venv"
  },
  "language_info": {
   "codemirror_mode": {
    "name": "ipython",
    "version": 3
   },
   "file_extension": ".py",
   "mimetype": "text/x-python",
   "name": "python",
   "nbconvert_exporter": "python",
   "pygments_lexer": "ipython3",
   "version": "3.10.8"
  }
 },
 "nbformat": 4,
 "nbformat_minor": 5
}
